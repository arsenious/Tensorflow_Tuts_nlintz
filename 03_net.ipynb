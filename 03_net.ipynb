{
 "cells": [
  {
   "cell_type": "code",
   "execution_count": 22,
   "metadata": {
    "collapsed": false
   },
   "outputs": [],
   "source": [
    "import tensorflow as tf\n",
    "import numpy as np\n",
    "from tensorflow.examples.tutorials.mnist import input_data "
   ]
  },
  {
   "cell_type": "code",
   "execution_count": 23,
   "metadata": {
    "collapsed": false
   },
   "outputs": [
    {
     "name": "stdout",
     "output_type": "stream",
     "text": [
      "Extracting MNIST_data/train-images-idx3-ubyte.gz\n",
      "Extracting MNIST_data/train-labels-idx1-ubyte.gz\n",
      "Extracting MNIST_data/t10k-images-idx3-ubyte.gz\n",
      "Extracting MNIST_data/t10k-labels-idx1-ubyte.gz\n"
     ]
    }
   ],
   "source": [
    "#Helper functions\n",
    "def init_weights(shape):\n",
    "    w = tf.Variable(tf.random_normal(shape, stddev=0.01))\n",
    "    print(tf.shape(w))\n",
    "    return(w)\n",
    "\n",
    "def model(W, w_h, w_o):\n",
    "    h = tf.nn.sigmoid(tf.matmul(X, w_h))\n",
    "    print(tf.shape(X))\n",
    "    print(tf.shape(w_h))\n",
    "    print(tf.shape(h))\n",
    "    o = tf.matmul(h, w_o)\n",
    "    return(o)\n",
    "\n",
    "\n",
    "#Data formatting\n",
    "mnist = input_data.read_data_sets(\"MNIST_data/\", one_hot=\"True\")\n",
    "tr_X, tr_y, te_X, te_y = mnist.train.images, mnist.train.labels, mnist.test.images, mnist.test.labels\n"
   ]
  },
  {
   "cell_type": "code",
   "execution_count": 24,
   "metadata": {
    "collapsed": false
   },
   "outputs": [
    {
     "name": "stdout",
     "output_type": "stream",
     "text": [
      "Variable       Type        Data/Info\n",
      "------------------------------------\n",
      "init_weights   function    <function init_weights at 0x7fc228e84b90>\n",
      "input_data     module      <module 'tensorflow.examp<...>ls/mnist/input_data.pyc'>\n",
      "mnist          Datasets    Datasets(train=<tensorflo<...>bject at 0x7fc222999050>)\n",
      "model          function    <function model at 0x7fc22ebe9668>\n",
      "np             module      <module 'numpy' from '/ho<...>ages/numpy/__init__.pyc'>\n",
      "te_X           ndarray     10000x784: 7840000 elems, type `float32`, 31360000 bytes (29 Mb)\n",
      "te_y           ndarray     10000x10: 100000 elems, type `float64`, 800000 bytes (781 kb)\n",
      "tf             module      <module 'tensorflow' from<...>tensorflow/__init__.pyc'>\n",
      "tr_X           ndarray     55000x784: 43120000 elems, type `float32`, 172480000 bytes (164 Mb)\n",
      "tr_y           ndarray     55000x10: 550000 elems, type `float64`, 4400000 bytes (4 Mb)\n"
     ]
    }
   ],
   "source": [
    "%whos"
   ]
  },
  {
   "cell_type": "code",
   "execution_count": 25,
   "metadata": {
    "collapsed": false
   },
   "outputs": [
    {
     "name": "stdout",
     "output_type": "stream",
     "text": [
      "Tensor(\"Shape_10:0\", shape=(2,), dtype=int32)\n",
      "Tensor(\"Shape_11:0\", shape=(2,), dtype=int32)\n",
      "Tensor(\"Shape_12:0\", shape=(2,), dtype=int32)\n",
      "Tensor(\"Shape_13:0\", shape=(2,), dtype=int32)\n",
      "Tensor(\"Shape_14:0\", shape=(2,), dtype=int32)\n"
     ]
    }
   ],
   "source": [
    "X = tf.placeholder(\"float\", [None, 784])\n",
    "y = tf.placeholder(\"float\", [None, 10])\n",
    "\n",
    "#Network is 784 -> 625 -> 10\n",
    "w_h = init_weights([784, 625])\n",
    "w_o = init_weights([625, 10])\n",
    "\n",
    "py_x = model(X, w_h, w_o)\n",
    "\n",
    "cost = tf.reduce_mean(tf.nn.softmax_cross_entropy_with_logits(logits=py_x, labels=y))\n",
    "train_op = tf.train.GradientDescentOptimizer(0.05).minimize(cost)\n",
    "predict_op = tf.argmax(py_x, 1)"
   ]
  },
  {
   "cell_type": "code",
   "execution_count": 27,
   "metadata": {
    "collapsed": false
   },
   "outputs": [
    {
     "name": "stdout",
     "output_type": "stream",
     "text": [
      "(0, 0.68920000000000003)\n",
      "(1, 0.82420000000000004)\n",
      "(2, 0.86199999999999999)\n",
      "(3, 0.88129999999999997)\n",
      "(4, 0.88900000000000001)\n",
      "(5, 0.89410000000000001)\n",
      "(6, 0.89770000000000005)\n",
      "(7, 0.89959999999999996)\n",
      "(8, 0.9032)\n",
      "(9, 0.90600000000000003)\n",
      "(10, 0.90739999999999998)\n",
      "(11, 0.90969999999999995)\n",
      "(12, 0.91110000000000002)\n",
      "(13, 0.91310000000000002)\n",
      "(14, 0.91420000000000001)\n",
      "(15, 0.91420000000000001)\n",
      "(16, 0.91500000000000004)\n",
      "(17, 0.91649999999999998)\n",
      "(18, 0.91739999999999999)\n",
      "(19, 0.91810000000000003)\n",
      "(20, 0.91859999999999997)\n",
      "(21, 0.91949999999999998)\n",
      "(22, 0.91949999999999998)\n",
      "(23, 0.91979999999999995)\n",
      "(24, 0.92000000000000004)\n",
      "(25, 0.92100000000000004)\n",
      "(26, 0.92210000000000003)\n",
      "(27, 0.92220000000000002)\n",
      "(28, 0.9224)\n",
      "(29, 0.92279999999999995)\n",
      "(30, 0.92359999999999998)\n",
      "(31, 0.92390000000000005)\n",
      "(32, 0.9244)\n",
      "(33, 0.92459999999999998)\n",
      "(34, 0.92490000000000006)\n",
      "(35, 0.92559999999999998)\n",
      "(36, 0.92620000000000002)\n",
      "(37, 0.92669999999999997)\n",
      "(38, 0.92710000000000004)\n",
      "(39, 0.9274)\n",
      "(40, 0.92759999999999998)\n",
      "(41, 0.92849999999999999)\n",
      "(42, 0.92949999999999999)\n",
      "(43, 0.92969999999999997)\n",
      "(44, 0.93020000000000003)\n",
      "(45, 0.93110000000000004)\n",
      "(46, 0.93149999999999999)\n",
      "(47, 0.93230000000000002)\n",
      "(48, 0.93279999999999996)\n",
      "(49, 0.93389999999999995)\n",
      "(50, 0.93430000000000002)\n",
      "(51, 0.93440000000000001)\n",
      "(52, 0.93489999999999995)\n",
      "(53, 0.93569999999999998)\n",
      "(54, 0.93630000000000002)\n",
      "(55, 0.93689999999999996)\n",
      "(56, 0.93769999999999998)\n",
      "(57, 0.9385)\n",
      "(58, 0.93869999999999998)\n",
      "(59, 0.93889999999999996)\n",
      "(60, 0.9395)\n",
      "(61, 0.93999999999999995)\n",
      "(62, 0.94040000000000001)\n",
      "(63, 0.94069999999999998)\n",
      "(64, 0.94099999999999995)\n",
      "(65, 0.94159999999999999)\n",
      "(66, 0.94159999999999999)\n",
      "(67, 0.94199999999999995)\n",
      "(68, 0.94259999999999999)\n",
      "(69, 0.94299999999999995)\n",
      "(70, 0.94320000000000004)\n",
      "(71, 0.94440000000000002)\n",
      "(72, 0.94510000000000005)\n",
      "(73, 0.94599999999999995)\n",
      "(74, 0.94640000000000002)\n",
      "(75, 0.94699999999999995)\n",
      "(76, 0.94789999999999996)\n",
      "(77, 0.94820000000000004)\n",
      "(78, 0.94850000000000001)\n",
      "(79, 0.9486)\n",
      "(80, 0.94910000000000005)\n",
      "(81, 0.94950000000000001)\n",
      "(82, 0.94989999999999997)\n",
      "(83, 0.95009999999999994)\n",
      "(84, 0.95020000000000004)\n",
      "(85, 0.95040000000000002)\n",
      "(86, 0.95109999999999995)\n",
      "(87, 0.95169999999999999)\n",
      "(88, 0.95230000000000004)\n",
      "(89, 0.95240000000000002)\n",
      "(90, 0.95279999999999998)\n",
      "(91, 0.95309999999999995)\n",
      "(92, 0.95309999999999995)\n",
      "(93, 0.95330000000000004)\n",
      "(94, 0.95379999999999998)\n",
      "(95, 0.95399999999999996)\n",
      "(96, 0.95420000000000005)\n",
      "(97, 0.95499999999999996)\n",
      "(98, 0.95509999999999995)\n",
      "(99, 0.95550000000000002)\n"
     ]
    }
   ],
   "source": [
    "with tf.Session() as sess:\n",
    "    sess.run(tf.initialize_all_variables())\n",
    "    \n",
    "    for i in range(100):\n",
    "        for start, end in zip(range(0, len(tr_X), 128),\n",
    "                              range(128, len(tr_X + 1), 128)\n",
    "                             ):\n",
    "            sess.run(train_op, feed_dict={X:tr_X[start:end],y:tr_y[start:end]\n",
    "                })\n",
    "            \n",
    "        print(i, np.mean(np.argmax(te_y, axis=1)==\n",
    "                         sess.run(predict_op, feed_dict={\n",
    "                        X:te_X\n",
    "                    })))\n",
    "        "
   ]
  },
  {
   "cell_type": "code",
   "execution_count": 15,
   "metadata": {
    "collapsed": false
   },
   "outputs": [
    {
     "ename": "AttributeError",
     "evalue": "'module' object has no attribute 'global_variables_initializer'",
     "output_type": "error",
     "traceback": [
      "\u001b[0;31m---------------------------------------------------------------------------\u001b[0m",
      "\u001b[0;31mAttributeError\u001b[0m                            Traceback (most recent call last)",
      "\u001b[0;32m<ipython-input-15-6c0a7f5bcfa0>\u001b[0m in \u001b[0;36m<module>\u001b[0;34m()\u001b[0m\n\u001b[1;32m      2\u001b[0m \u001b[0;32mwith\u001b[0m \u001b[0mtf\u001b[0m\u001b[0;34m.\u001b[0m\u001b[0mSession\u001b[0m\u001b[0;34m(\u001b[0m\u001b[0;34m)\u001b[0m \u001b[0;32mas\u001b[0m \u001b[0msess\u001b[0m\u001b[0;34m:\u001b[0m\u001b[0;34m\u001b[0m\u001b[0m\n\u001b[1;32m      3\u001b[0m     \u001b[0;31m# you need to initialize all variables\u001b[0m\u001b[0;34m\u001b[0m\u001b[0;34m\u001b[0m\u001b[0m\n\u001b[0;32m----> 4\u001b[0;31m     \u001b[0mtf\u001b[0m\u001b[0;34m.\u001b[0m\u001b[0mglobal_variables_initializer\u001b[0m\u001b[0;34m(\u001b[0m\u001b[0;34m)\u001b[0m\u001b[0;34m.\u001b[0m\u001b[0mrun\u001b[0m\u001b[0;34m(\u001b[0m\u001b[0;34m)\u001b[0m\u001b[0;34m\u001b[0m\u001b[0m\n\u001b[0m\u001b[1;32m      5\u001b[0m \u001b[0;34m\u001b[0m\u001b[0m\n\u001b[1;32m      6\u001b[0m     \u001b[0;32mfor\u001b[0m \u001b[0mi\u001b[0m \u001b[0;32min\u001b[0m \u001b[0mrange\u001b[0m\u001b[0;34m(\u001b[0m\u001b[0;36m100\u001b[0m\u001b[0;34m)\u001b[0m\u001b[0;34m:\u001b[0m\u001b[0;34m\u001b[0m\u001b[0m\n",
      "\u001b[0;31mAttributeError\u001b[0m: 'module' object has no attribute 'global_variables_initializer'"
     ]
    }
   ],
   "source": [
    "# Launch the graph in a session\n",
    "with tf.Session() as sess:\n",
    "    # you need to initialize all variables\n",
    "    \n",
    "\n",
    "    for i in range(100):\n",
    "        for start, end in zip(range(0, len(trX), 128), range(128, len(trX)+1, 128)):\n",
    "            sess.run(train_op, feed_dict={X: trX[start:end], Y: trY[start:end]})\n",
    "        print(i, np.mean(np.argmax(teY, axis=1) ==\n",
    "                         sess.run(predict_op, feed_dict={X: teX})))"
   ]
  },
  {
   "cell_type": "code",
   "execution_count": 21,
   "metadata": {
    "collapsed": false
   },
   "outputs": [
    {
     "name": "stdout",
     "output_type": "stream",
     "text": [
      "Once deleted, variables cannot be recovered. Proceed (y/[n])? y\n"
     ]
    }
   ],
   "source": [
    "%reset"
   ]
  },
  {
   "cell_type": "code",
   "execution_count": 20,
   "metadata": {
    "collapsed": false
   },
   "outputs": [
    {
     "name": "stdout",
     "output_type": "stream",
     "text": [
      "Extracting MNIST_data/train-images-idx3-ubyte.gz\n",
      "Extracting MNIST_data/train-labels-idx1-ubyte.gz\n",
      "Extracting MNIST_data/t10k-images-idx3-ubyte.gz\n",
      "Extracting MNIST_data/t10k-labels-idx1-ubyte.gz\n",
      "(0, 0.69450000000000001)\n",
      "(1, 0.82269999999999999)\n",
      "(2, 0.86040000000000005)\n",
      "(3, 0.87970000000000004)\n",
      "(4, 0.88780000000000003)\n",
      "(5, 0.89349999999999996)\n",
      "(6, 0.89780000000000004)\n",
      "(7, 0.90039999999999998)\n",
      "(8, 0.90329999999999999)\n",
      "(9, 0.90569999999999995)\n",
      "(10, 0.90780000000000005)\n",
      "(11, 0.91010000000000002)\n",
      "(12, 0.91180000000000005)\n",
      "(13, 0.91259999999999997)\n",
      "(14, 0.91459999999999997)\n",
      "(15, 0.91510000000000002)\n",
      "(16, 0.91559999999999997)\n",
      "(17, 0.91649999999999998)\n",
      "(18, 0.91739999999999999)\n",
      "(19, 0.91810000000000003)\n",
      "(20, 0.91879999999999995)\n",
      "(21, 0.91900000000000004)\n",
      "(22, 0.9194)\n",
      "(23, 0.92000000000000004)\n",
      "(24, 0.92059999999999997)\n",
      "(25, 0.92090000000000005)\n",
      "(26, 0.9214)\n",
      "(27, 0.92200000000000004)\n",
      "(28, 0.92220000000000002)\n",
      "(29, 0.92249999999999999)\n",
      "(30, 0.92320000000000002)\n",
      "(31, 0.92320000000000002)\n",
      "(32, 0.92410000000000003)\n",
      "(33, 0.9244)\n",
      "(34, 0.92479999999999996)\n",
      "(35, 0.92549999999999999)\n",
      "(36, 0.92569999999999997)\n",
      "(37, 0.92630000000000001)\n",
      "(38, 0.9264)\n",
      "(39, 0.92669999999999997)\n",
      "(40, 0.9274)\n",
      "(41, 0.92830000000000001)\n",
      "(42, 0.92849999999999999)\n",
      "(43, 0.92920000000000003)\n",
      "(44, 0.92949999999999999)\n",
      "(45, 0.93000000000000005)\n",
      "(46, 0.93100000000000005)\n",
      "(47, 0.93169999999999997)\n",
      "(48, 0.93179999999999996)\n",
      "(49, 0.93269999999999997)\n",
      "(50, 0.93320000000000003)\n",
      "(51, 0.93420000000000003)\n",
      "(52, 0.93430000000000002)\n",
      "(53, 0.93510000000000004)\n",
      "(54, 0.93610000000000004)\n",
      "(55, 0.9365)\n",
      "(56, 0.93689999999999996)\n",
      "(57, 0.93730000000000002)\n",
      "(58, 0.93789999999999996)\n",
      "(59, 0.93869999999999998)\n",
      "(60, 0.93920000000000003)\n",
      "(61, 0.9395)\n",
      "(62, 0.93989999999999996)\n",
      "(63, 0.9405)\n",
      "(64, 0.94089999999999996)\n",
      "(65, 0.94140000000000001)\n",
      "(66, 0.94220000000000004)\n",
      "(67, 0.94240000000000002)\n",
      "(68, 0.94299999999999995)\n",
      "(69, 0.94359999999999999)\n",
      "(70, 0.94410000000000005)\n",
      "(71, 0.94430000000000003)\n",
      "(72, 0.94450000000000001)\n",
      "(73, 0.94489999999999996)\n",
      "(74, 0.9456)\n",
      "(75, 0.94599999999999995)\n",
      "(76, 0.9466)\n",
      "(77, 0.94689999999999996)\n",
      "(78, 0.94669999999999999)\n",
      "(79, 0.94689999999999996)\n",
      "(80, 0.94799999999999995)\n",
      "(81, 0.94869999999999999)\n",
      "(82, 0.94899999999999995)\n",
      "(83, 0.94979999999999998)\n",
      "(84, 0.94989999999999997)\n",
      "(85, 0.95030000000000003)\n",
      "(86, 0.95089999999999997)\n",
      "(87, 0.95140000000000002)\n",
      "(88, 0.95240000000000002)\n",
      "(89, 0.95279999999999998)\n",
      "(90, 0.95320000000000005)\n",
      "(91, 0.9536)\n",
      "(92, 0.95369999999999999)\n",
      "(93, 0.95369999999999999)\n",
      "(94, 0.95389999999999997)\n",
      "(95, 0.95409999999999995)\n",
      "(96, 0.95430000000000004)\n",
      "(97, 0.95469999999999999)\n",
      "(98, 0.95489999999999997)\n",
      "(99, 0.95509999999999995)\n"
     ]
    }
   ],
   "source": [
    "#!/usr/bin/env python\n",
    "\n",
    "import tensorflow as tf\n",
    "import numpy as np\n",
    "from tensorflow.examples.tutorials.mnist import input_data\n",
    "\n",
    "\n",
    "def init_weights(shape):\n",
    "    return tf.Variable(tf.random_normal(shape, stddev=0.01))\n",
    "\n",
    "\n",
    "def model(X, w_h, w_o):\n",
    "    h = tf.nn.sigmoid(tf.matmul(X, w_h)) # this is a basic mlp, think 2 stacked logistic regressions\n",
    "    return tf.matmul(h, w_o) # note that we dont take the softmax at the end because our cost fn does that for us\n",
    "\n",
    "\n",
    "mnist = input_data.read_data_sets(\"MNIST_data/\", one_hot=True)\n",
    "trX, trY, teX, teY = mnist.train.images, mnist.train.labels, mnist.test.images, mnist.test.labels\n",
    "\n",
    "X = tf.placeholder(\"float\", [None, 784])\n",
    "Y = tf.placeholder(\"float\", [None, 10])\n",
    "\n",
    "w_h = init_weights([784, 625]) # create symbolic variables\n",
    "w_o = init_weights([625, 10])\n",
    "\n",
    "py_x = model(X, w_h, w_o)\n",
    "\n",
    "cost = tf.reduce_mean(tf.nn.softmax_cross_entropy_with_logits(logits=py_x, labels=Y)) # compute costs\n",
    "train_op = tf.train.GradientDescentOptimizer(0.05).minimize(cost) # construct an optimizer\n",
    "predict_op = tf.argmax(py_x, 1)\n",
    "\n",
    "# Launch the graph in a session\n",
    "with tf.Session() as sess:\n",
    "    # you need to initialize all variables\n",
    "    sess.run(tf.initialize_all_variables())\n",
    "\n",
    "    for i in range(100):\n",
    "        for start, end in zip(range(0, len(trX), 128), range(128, len(trX)+1, 128)):\n",
    "            sess.run(train_op, feed_dict={X: trX[start:end], Y: trY[start:end]})\n",
    "        print(i, np.mean(np.argmax(teY, axis=1) ==\n",
    "                         sess.run(predict_op, feed_dict={X: teX})))"
   ]
  },
  {
   "cell_type": "code",
   "execution_count": null,
   "metadata": {
    "collapsed": true
   },
   "outputs": [],
   "source": []
  }
 ],
 "metadata": {
  "kernelspec": {
   "display_name": "Python 2",
   "language": "python",
   "name": "python2"
  },
  "language_info": {
   "codemirror_mode": {
    "name": "ipython",
    "version": 2
   },
   "file_extension": ".py",
   "mimetype": "text/x-python",
   "name": "python",
   "nbconvert_exporter": "python",
   "pygments_lexer": "ipython2",
   "version": "2.7.11"
  }
 },
 "nbformat": 4,
 "nbformat_minor": 0
}
