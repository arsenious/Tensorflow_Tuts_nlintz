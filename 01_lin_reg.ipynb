{
 "cells": [
  {
   "cell_type": "code",
   "execution_count": 1,
   "metadata": {
    "collapsed": false
   },
   "outputs": [],
   "source": [
    "import tensorflow as tf\n",
    "import numpy as np\n",
    "import matplotlib.pyplot as plt"
   ]
  },
  {
   "cell_type": "code",
   "execution_count": 2,
   "metadata": {
    "collapsed": true
   },
   "outputs": [],
   "source": [
    "%matplotlib inline "
   ]
  },
  {
   "cell_type": "markdown",
   "metadata": {},
   "source": [
    "**Steps** :\n",
    "    \n",
    "    1) Find and clean data, get in correct format\n",
    "    2) Declare placeholders, i.e. inlets through \n",
    "       which data will be fed to the model when\n",
    "       actually launched\n",
    "    3) Develop the model using tf primitives to          get model output\n",
    "    4) Using model output aka prediction, decide \n",
    "       on a cost function (usually model                  prediction compared against output label          placeholder)\n",
    "    5) Optimize cost function (called train_op)\n",
    "    6) Start session and execute the optimization\n",
    "        "
   ]
  },
  {
   "cell_type": "code",
   "execution_count": 3,
   "metadata": {
    "collapsed": false
   },
   "outputs": [],
   "source": [
    "trX = np.linspace(-1,1,101)\n",
    "\n",
    "noise = np.random.randn(*trX.shape)*0.33\n",
    "#  * collects all the positional arguments in a tuple\n",
    "#  ** collects all the keyword arguments in a dictionary\n",
    "#  \n",
    "\n",
    "trY = 2*trX + noise"
   ]
  },
  {
   "cell_type": "code",
   "execution_count": 4,
   "metadata": {
    "collapsed": false
   },
   "outputs": [],
   "source": [
    "# lis=[1, 2, 3, 4]\n",
    "# dic={'a': 10, 'b':20}\n",
    "# functionA(*lis, **dic)  #it is similar to functionA(1, 2, 3, 4, a=10, b=20)"
   ]
  },
  {
   "cell_type": "code",
   "execution_count": 5,
   "metadata": {
    "collapsed": false
   },
   "outputs": [
    {
     "data": {
      "text/plain": [
       "[<matplotlib.lines.Line2D at 0x7f9c134504a8>]"
      ]
     },
     "execution_count": 5,
     "metadata": {},
     "output_type": "execute_result"
    },
    {
     "data": {
      "image/png": "[encoded data removed]",
      "text/plain": [
       "<matplotlib.figure.Figure at 0x7f9c15462f60>"
      ]
     },
     "metadata": {},
     "output_type": "display_data"
    }
   ],
   "source": [
    "plt.plot(trX, trY)"
   ]
  },
  {
   "cell_type": "code",
   "execution_count": 6,
   "metadata": {
    "collapsed": true
   },
   "outputs": [],
   "source": [
    "X = tf.placeholder(\"float\")\n",
    "Y = tf.placeholder(\"float\")\n",
    "\n",
    "w = tf.Variable(0.0, name='weights')\n",
    "#Just 1 wt i.e. coefficient, init to 0\n",
    "\n",
    "def model(X,w):\n",
    "    #Model we propose is to simply return X*W\n",
    "    return(tf.mul(X,w))\n",
    "\n",
    "y_model = model(X,w)\n",
    "\n",
    "cost = tf.square(Y - y_model)\n",
    "\n",
    "train_op = tf.train.GradientDescentOptimizer(0.01).minimize(cost)          "
   ]
  },
  {
   "cell_type": "code",
   "execution_count": 8,
   "metadata": {
    "collapsed": false,
    "scrolled": false
   },
   "outputs": [
    {
     "name": "stdout",
     "output_type": "stream",
     "text": [
      "2.05571\n"
     ]
    }
   ],
   "source": [
    "with tf.Session() as sess:\n",
    "    tf.global_variables_initializer().run()\n",
    "    \n",
    "    for i in range(100): #100 iters\n",
    "        for(x,y) in zip(trX, trY): #for all training data\n",
    "            sess.run(train_op, feed_dict={X:x, Y:y})\n",
    "            \n",
    "    print(sess.run(w))"
   ]
  },
  {
   "cell_type": "code",
   "execution_count": null,
   "metadata": {
    "collapsed": true
   },
   "outputs": [],
   "source": []
  }
 ],
 "metadata": {
  "anaconda-cloud": {},
  "kernelspec": {
   "display_name": "Python [conda env:universe]",
   "language": "python",
   "name": "conda-env-universe-py"
  },
  "language_info": {
   "codemirror_mode": {
    "name": "ipython",
    "version": 3
   },
   "file_extension": ".py",
   "mimetype": "text/x-python",
   "name": "python",
   "nbconvert_exporter": "python",
   "pygments_lexer": "ipython3",
   "version": "3.5.2"
  }
 },
 "nbformat": 4,
 "nbformat_minor": 0
}
