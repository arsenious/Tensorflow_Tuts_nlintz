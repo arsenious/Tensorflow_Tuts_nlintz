{
 "cells": [
  {
   "cell_type": "code",
   "execution_count": 2,
   "metadata": {
    "collapsed": false,
    "deletable": true,
    "editable": true
   },
   "outputs": [],
   "source": [
    "import tensorflow as tf\n",
    "import numpy as np\n",
    "from tensorflow.examples.tutorials.mnist import input_data"
   ]
  },
  {
   "cell_type": "code",
   "execution_count": null,
   "metadata": {
    "collapsed": true,
    "deletable": true,
    "editable": true
   },
   "outputs": [],
   "source": [
    "batch_size = 128\n",
    "test_size = 256\n",
    "\n",
    "def init_weights(shape):\n",
    "    w = tf.Variable(tf.random_normal(shape, stddev=0.01))\n",
    "    return(w)\n",
    "\n",
    "#Input images and Output one-hot vecs\n",
    "X = tf.placeholder(\"float\", [None, 28, 28, 1])\n",
    "Y = tf.placeholder(\"float\", [None, 10])\n",
    "\n",
    "w1 = init_weights([3,3,1,32])   #3x3x1 conv, 32 filters\n",
    "w2 = init_weights([3,3,32,64])  #3x3x32 conv, 64 filters\n",
    "w3 = init_weights([3,3,64,128]) #3x3x64 conv, 128 filters\n",
    "###########Continue here\n",
    "\n",
    "\n",
    "    \n",
    "    "
   ]
  },
  {
   "cell_type": "code",
   "execution_count": null,
   "metadata": {
    "collapsed": true,
    "deletable": true,
    "editable": true
   },
   "outputs": [],
   "source": [
    "def model(X w1, w2, w3, w4, w_o, p_keep_conv, p_keep_fc):\n",
    "    \n",
    "    #Input(?, 28, 28, 1) -> 1st conv layer(?, 28, 28, 32)\n",
    "    #All weight matrices are pre-initialized\n",
    "    # including their shapes, pre-determined\n",
    "    l1 = tf.nn.conv2d(X, w1,\n",
    "                     strides =[1,1,1,1],\n",
    "                     padding)\n",
    "    l1 = tf.nn.relu()"
   ]
  }
 ],
 "metadata": {
  "kernelspec": {
   "display_name": "Python 3",
   "language": "python",
   "name": "python3"
  },
  "language_info": {
   "codemirror_mode": {
    "name": "ipython",
    "version": 3
   },
   "file_extension": ".py",
   "mimetype": "text/x-python",
   "name": "python",
   "nbconvert_exporter": "python",
   "pygments_lexer": "ipython3",
   "version": "3.5.2"
  }
 },
 "nbformat": 4,
 "nbformat_minor": 2
}
